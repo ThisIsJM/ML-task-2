{
 "cells": [
  {
   "cell_type": "markdown",
   "metadata": {},
   "source": [
    "### Install and Import Third Party Dependencies"
   ]
  },
  {
   "cell_type": "code",
   "execution_count": null,
   "metadata": {},
   "outputs": [],
   "source": [
    "%pip install pandas numpy matplotlib seaborn scipy scikit-learn"
   ]
  },
  {
   "cell_type": "code",
   "execution_count": null,
   "metadata": {},
   "outputs": [],
   "source": [
    "import pandas as pd\n",
    "import numpy as np\n",
    "import matplotlib.pyplot as plt\n",
    "import seaborn as sns\n",
    "from scipy.stats import zscore"
   ]
  },
  {
   "cell_type": "markdown",
   "metadata": {},
   "source": [
    "### Initialize datasets and columns for outlier detection"
   ]
  },
  {
   "cell_type": "code",
   "execution_count": null,
   "metadata": {},
   "outputs": [],
   "source": [
    "# Load dataset (update the file path if needed)\n",
    "df = pd.read_csv(\"data.csv\")\n",
    "\n",
    "# Select numeric columns for outlier detection\n",
    "df_numeric = df.select_dtypes(include='number')\n",
    "\n",
    "# Add the 'title' column to the numeric DataFrame\n",
    "# df_numeric = pd.concat([df[['title']], df_numeric], axis=1)\n",
    "\n",
    "# Display dataset info and summary\n",
    "print(df.info())\n",
    "print(df.describe())\n"
   ]
  },
  {
   "cell_type": "markdown",
   "metadata": {},
   "source": [
    "### Outliers Detected using Z-score"
   ]
  },
  {
   "cell_type": "code",
   "execution_count": null,
   "metadata": {},
   "outputs": [],
   "source": [
    "df_z = df_numeric\n",
    "\n",
    "# Calculate the mean and standard deviation for 'imdbNumVotes'\n",
    "mean_votes = df_z['imdbNumVotes'].mean()\n",
    "std_votes = df_z['imdbNumVotes'].std()\n",
    "\n",
    "# Calculate the Z-scores\n",
    "df_z['z_score'] = (df_z['imdbNumVotes'] - mean_votes) / std_votes\n",
    "\n",
    "# Define the threshold for identifying outliers\n",
    "threshold = 3\n",
    "\n",
    "# Identify outliers\n",
    "df_z['is_outlier'] = np.abs(df_z['z_score']) > threshold\n",
    "\n",
    "# Display the outliers\n",
    "outliers = df_z[df_z['is_outlier']]\n",
    "\n",
    "print(\"Outliers detected using Z-score:\")\n",
    "print(outliers)"
   ]
  },
  {
   "cell_type": "markdown",
   "metadata": {},
   "source": [
    "### Z-Score Outliers Visualization using Box Plot"
   ]
  },
  {
   "cell_type": "code",
   "execution_count": null,
   "metadata": {},
   "outputs": [],
   "source": [
    "# Create a box plot for 'imdbNumVotes'\n",
    "sns.boxplot(y=df_z['imdbNumVotes'], color='lightblue')\n",
    "\n",
    "# Overlay outliers identified by Z-score\n",
    "outliers = df_z[df_z['is_outlier']]\n",
    "sns.scatterplot(y=outliers['imdbNumVotes'], x=[0]*len(outliers), color='red', label='Z-score Outliers', zorder=10)\n",
    "\n",
    "plt.title('Box Plot of IMDb Number of Votes with Z-score Outliers')\n",
    "plt.ylabel('IMDb Number of Votes')\n",
    "plt.legend()\n",
    "plt.show()"
   ]
  },
  {
   "cell_type": "markdown",
   "metadata": {},
   "source": [
    "### Outliers Detected using IQR"
   ]
  },
  {
   "cell_type": "code",
   "execution_count": null,
   "metadata": {},
   "outputs": [],
   "source": [
    "df_iqr = df_numeric\n",
    "\n",
    "# Calculate Q1 (25th percentile) and Q3 (75th percentile) for imdbNumVotes\n",
    "Q1 = df_iqr['imdbNumVotes'].quantile(0.25)\n",
    "Q3 = df_iqr['imdbNumVotes'].quantile(0.75)\n",
    "IQR = Q3 - Q1\n",
    "\n",
    "# Define outlier boundaries as scalar values\n",
    "lower_bound = Q1 - 1.5 * IQR\n",
    "upper_bound = Q3 + 1.5 * IQR\n",
    "\n",
    "# Identify outliers\n",
    "df_iqr['is_outlier'] = (df_iqr['imdbNumVotes'] < lower_bound) | (df_iqr['imdbNumVotes'] > upper_bound)\n",
    "\n",
    "# Extract rows with outliers\n",
    "df_outliers_iqr = df[df_iqr['is_outlier']]\n",
    "\n",
    "print(\"\\nOutliers detected using IQR:\")\n",
    "print(df_outliers_iqr)"
   ]
  },
  {
   "cell_type": "markdown",
   "metadata": {},
   "source": [
    "### IQR Outliers Visualization using Scatter Plot"
   ]
  },
  {
   "cell_type": "code",
   "execution_count": null,
   "metadata": {},
   "outputs": [],
   "source": [
    "\n",
    "# Scatter Plot with Outliers Highlighted\n",
    "# Scatter plot\n",
    "plt.figure(figsize=(10, 6))\n",
    "sns.scatterplot(\n",
    "    data=df_iqr,\n",
    "    x='imdbNumVotes', y='imdbAverageRating',\n",
    "    hue='is_outlier',  # Color by outlier status\n",
    "    palette={True: 'red', False: 'blue'},  # Red for outliers, blue for non-outliers\n",
    "    legend='brief'\n",
    ")\n",
    "\n",
    "# Highlight outliers with annotations\n",
    "for i in range(len(df_iqr)):\n",
    "    if df_iqr['is_outlier'].iloc[i]:\n",
    "        plt.text(\n",
    "            df_iqr['imdbNumVotes'].iloc[i],\n",
    "            df_iqr['imdbAverageRating'].iloc[i],\n",
    "            s=\"\", \n",
    "            fontsize=9,\n",
    "            ha='right'\n",
    "        )\n",
    "\n",
    "plt.title('IMDb Ratings vs. Number of Votes (Outliers Highlighted)')\n",
    "plt.xlabel('Number of Votes')\n",
    "plt.ylabel('Average Rating')\n",
    "plt.legend(title='Outlier', labels=['No', 'Yes'])\n",
    "plt.show()"
   ]
  },
  {
   "cell_type": "markdown",
   "metadata": {},
   "source": [
    "### Detecting outliers using Isolation Method"
   ]
  },
  {
   "cell_type": "code",
   "execution_count": null,
   "metadata": {},
   "outputs": [],
   "source": [
    "x = df_numeric[[\"imdbNumVotes\", \"imdbAverageRating\"]]"
   ]
  },
  {
   "cell_type": "code",
   "execution_count": null,
   "metadata": {},
   "outputs": [],
   "source": [
    "from sklearn.ensemble import IsolationForest\n",
    "\n",
    "df_iso_forest = df_numeric\n",
    "\n",
    "iso_forest = IsolationForest(contamination=0.05, random_state=42)\n",
    "df_iso_forest['anomaly_score'] = iso_forest.fit_predict(df_iso_forest[['imdbNumVotes', 'imdbAverageRating']])\n",
    "\n",
    "plt.figure(figsize=(10, 6))\n",
    "sns.scatterplot(data=df_iso_forest, x='imdbNumVotes', y='imdbAverageRating', hue='anomaly_score', palette=['red', 'blue'])\n",
    "plt.title('Isolation Forest Outlier Detection')\n",
    "plt.show()\n",
    "\n"
   ]
  },
  {
   "cell_type": "markdown",
   "metadata": {},
   "source": [
    "### Comparing Count using Statistical Method and Machine Learning Method"
   ]
  },
  {
   "cell_type": "code",
   "execution_count": null,
   "metadata": {},
   "outputs": [],
   "source": [
    "# Count iqr outliers\n",
    "outlier_count_iqr = df_iqr['is_outlier'].sum()\n",
    "print(f'Number of outliers detected using IQR method: {outlier_count_iqr}')\n",
    "\n",
    "# Count the number of outliers\n",
    "outlier_count_iso = (df_iso_forest['anomaly_score'] == -1).sum()\n",
    "print(f'Number of outliers detected using Isolation Forest: {outlier_count_iso}')\n"
   ]
  },
  {
   "cell_type": "markdown",
   "metadata": {},
   "source": [
    "### Cleaned outliers using the IQR Method"
   ]
  },
  {
   "cell_type": "code",
   "execution_count": null,
   "metadata": {},
   "outputs": [],
   "source": [
    "# Assuming df_numeric is your DataFrame containing numerical data\n",
    "df_cleaned = df_numeric.copy()\n",
    "\n",
    "# Remove outliers\n",
    "df_cleaned = df_cleaned[~((df_cleaned < lower_bound) | (df_cleaned > upper_bound)).any(axis=1)]\n",
    "print(f'Number of data points after removing outliers: {df_cleaned.shape[0]}')"
   ]
  },
  {
   "cell_type": "markdown",
   "metadata": {},
   "source": [
    "### Performing Winsorization"
   ]
  },
  {
   "cell_type": "code",
   "execution_count": null,
   "metadata": {},
   "outputs": [],
   "source": [
    "from scipy.stats.mstats import winsorize\n",
    "\n",
    "# Assuming df_numeric is your DataFrame containing numerical data\n",
    "df_winsorized = df_numeric.copy()\n",
    "\n",
    "# Apply Winsorization to each column (e.g., limit data to the 5th and 95th percentiles)\n",
    "for column in df_winsorized.columns:\n",
    "    df_winsorized[column] = winsorize(df_winsorized[column], limits=[0.05, 0.05])\n",
    "\n",
    "print(f'Winsorized data:\\n{df_winsorized.describe()}')\n"
   ]
  },
  {
   "cell_type": "markdown",
   "metadata": {},
   "source": [
    "### Log Transformation"
   ]
  },
  {
   "cell_type": "code",
   "execution_count": null,
   "metadata": {},
   "outputs": [],
   "source": [
    "# Assuming df_numeric is your DataFrame containing numerical data\n",
    "df_log_transformed = df_numeric.copy()\n",
    "\n",
    "# Apply log transformation to each column\n",
    "df_log_transformed = np.log(df_log_transformed + 1)  # Adding 1 to avoid log(0)\n",
    "\n",
    "print(f'Log-transformed data:\\n{df_log_transformed.describe()}')"
   ]
  },
  {
   "cell_type": "markdown",
   "metadata": {},
   "source": [
    "### Comparing Methods"
   ]
  },
  {
   "cell_type": "code",
   "execution_count": null,
   "metadata": {},
   "outputs": [],
   "source": [
    "# Original data statistics\n",
    "print('Original Data Statistics:')\n",
    "print(df_numeric.describe())\n",
    "\n",
    "# After removing outliers\n",
    "print('\\nAfter Removing Outliers:')\n",
    "print(df_cleaned.describe())\n",
    "\n",
    "# After Winsorization\n",
    "print('\\nAfter Winsorization:')\n",
    "print(df_winsorized.describe())\n",
    "\n",
    "# After Log Transformation\n",
    "print('\\nAfter Log Transformation:')\n",
    "print(df_log_transformed.describe())\n"
   ]
  },
  {
   "cell_type": "code",
   "execution_count": null,
   "metadata": {},
   "outputs": [],
   "source": [
    "from sklearn.model_selection import train_test_split\n",
    "from sklearn.linear_model import LinearRegression\n",
    "from sklearn.metrics import mean_squared_error\n",
    "from sklearn.impute import SimpleImputer\n",
    "\n",
    "def train_model(df):\n",
    "    # Initialize the imputer with the desired strategy, to clear null values\n",
    "    imputer = SimpleImputer(strategy='mean')\n",
    "    df_imputed = pd.DataFrame(imputer.fit_transform(df), columns=df.columns)\n",
    "\n",
    "    # Define features and target\n",
    "    X = df_imputed\n",
    "    y = (X['imdbAverageRating'] * X['imdbNumVotes']) / 1000  # Example target\n",
    "\n",
    "    # Split data into training and testing sets\n",
    "    X_train, X_test, y_train, y_test = train_test_split(X, y, test_size=0.2, random_state=42)\n",
    "\n",
    "    # Train the model\n",
    "    model = LinearRegression()\n",
    "    model.fit(X_train, y_train)\n",
    "\n",
    "    # Make predictions\n",
    "    y_pred = model.predict(X_test)\n",
    "\n",
    "    # Evaluate the model\n",
    "    mse = mean_squared_error(y_test, y_pred)\n",
    "    print(f'Mean Squared Error: {mse}')"
   ]
  },
  {
   "cell_type": "markdown",
   "metadata": {},
   "source": [
    "### Train Model with outliers"
   ]
  },
  {
   "cell_type": "code",
   "execution_count": null,
   "metadata": {},
   "outputs": [],
   "source": [
    "# Select numeric columns\n",
    "df_numeric = df[['imdbAverageRating', 'imdbNumVotes']]\n",
    "train_model(df_numeric)"
   ]
  },
  {
   "cell_type": "markdown",
   "metadata": {},
   "source": [
    "### Training Machine Learning Model after outliers handling"
   ]
  },
  {
   "cell_type": "code",
   "execution_count": null,
   "metadata": {},
   "outputs": [],
   "source": [
    "# Calculate Q1 (25th percentile) and Q3 (75th percentile)\n",
    "Q1 = df_numeric.quantile(0.25)\n",
    "Q3 = df_numeric.quantile(0.75)\n",
    "IQR = Q3 - Q1\n",
    "\n",
    "# Define outlier criteria\n",
    "lower_bound = Q1 - 1.5 * IQR\n",
    "upper_bound = Q3 + 1.5 * IQR\n",
    "\n",
    "# Filter out outliers\n",
    "df_no_outliers = df_numeric[~((df_numeric < lower_bound) | (df_numeric > upper_bound)).any(axis=1)]\n",
    "train_model(df_no_outliers)"
   ]
  },
  {
   "cell_type": "markdown",
   "metadata": {},
   "source": [
    "### Result Summarization\n",
    "\n",
    "Based on the results on training a model with and without outliers, it has been shown that dropping outliers help prevent skewed out data and helps with normalization\n",
    "\n",
    "**How do different outlier detection techniques impact the identification of anomalies in the datasets?**\n",
    "\n",
    "Different outlier detection techniques have varying sensitivity and more complex outlier detection techniques cost more processing power choosing the right outlier detection technique depends on the data that is being analyzed to make sure that correct anomalies are actually being detected and avoiding false positives.\n",
    "\n",
    "**How does the presence of outliers affect the performance of different machine learning models?**\n",
    "\n",
    "Outliers are anomalies that are included in a set of data. These anomalies can cause data to be skewed, which might affect machine learning models that are sensitive to extreme values. These outliers can cause the model to either overfit or underfit\n",
    "\n",
    "**How does the presence of outliers affect the performance of different machine learning models?**\n",
    "\n",
    "Models, especially those that are sensitive to distribution of data might be affected by large anomalies cause by outliers, they can increase the rate of error of a machine learning model and reduce its accuracy\n",
    "\n",
    "**What are the potential drawbacks of removing outliers from a datasets?**\n",
    "\n",
    "Some of the drawback of removing outliers are the following:\n",
    "- Loss of important data\n",
    "- Overfitting\n",
    "\n",
    "**If you were working with a real-word datasets, what factors would you consider before deciding to remove outliers?**\n",
    "\n",
    "Some things to consider are the following:\n",
    "- Importance of data distribution\n",
    "- The target or goal of the machine learning model\n",
    "- Impacts of removing or retaining outliers in the dataset\n",
    "\n"
   ]
  }
 ],
 "metadata": {
  "kernelspec": {
   "display_name": "Python 3",
   "language": "python",
   "name": "python3"
  },
  "language_info": {
   "codemirror_mode": {
    "name": "ipython",
    "version": 3
   },
   "file_extension": ".py",
   "mimetype": "text/x-python",
   "name": "python",
   "nbconvert_exporter": "python",
   "pygments_lexer": "ipython3",
   "version": "3.12.9"
  }
 },
 "nbformat": 4,
 "nbformat_minor": 2
}
